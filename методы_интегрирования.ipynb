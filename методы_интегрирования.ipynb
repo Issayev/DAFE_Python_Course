{
 "cells": [
  {
   "cell_type": "code",
   "execution_count": 2,
   "metadata": {},
   "outputs": [
    {
     "name": "stdout",
     "output_type": "stream",
     "text": [
      "Integral Simpson =  -4.44389430539289 Integral rechtangle =  -4.441551071810142 Integral trapeze =  -4.4485807725583815\n"
     ]
    }
   ],
   "source": [
    "import numpy as np\n",
    "import matplotlib as mpl\n",
    "from matplotlib import pyplot as plt\n",
    "def Integral_trapeze(f, n, b, a):\n",
    "    h = (b-a) / n\n",
    "    x = np.array([a + h * i for i in range(n+1)])\n",
    "    I = h * np.sum(np.concatenate(([0.5*f(a)], f(x[1:-1]), [0.5*f(b)])))\n",
    "    return I\n",
    "\n",
    "def Integral_rechtangle(f, n, b, a):\n",
    "    h = (b-a) / n\n",
    "    x = [a + h * i for i in range(n+1)]\n",
    "    I = 0\n",
    "    for i in range(n):\n",
    "        I+= f((x[i]+x[i+1])/2)\n",
    "    I *= h\n",
    "    return I\n",
    "\n",
    "def Integral_Simpson(f, n, b, a):\n",
    "    h = (b-a) / (2*n)\n",
    "    x = [a + h * i for i in range(2*n+1)]\n",
    "    I = f(a) + f(b)\n",
    "    for i in range(2,2*n-1,2):\n",
    "        I+= 2*f(x[i])\n",
    "    for i in range(1,2*n,2):\n",
    "        I+= 4*f(x[i])    \n",
    "    I *= h / 3\n",
    "    return I\n",
    "\n",
    "y = [(lambda x: (np.exp(x) - 0.5)**0.5, 10, 0.2, 2.5)]\n",
    "n = 10\n",
    "for cond in y:\n",
    "    print(\"Integral Simpson = \", Integral_Simpson(*cond),\n",
    "          \"Integral rechtangle = \", Integral_rechtangle(*cond),\n",
    "         \"Integral trapeze = \", Integral_trapeze(*cond))"
   ]
  },
  {
   "cell_type": "code",
   "execution_count": null,
   "metadata": {},
   "outputs": [],
   "source": []
  }
 ],
 "metadata": {
  "kernelspec": {
   "display_name": "Python 3",
   "language": "python",
   "name": "python3"
  },
  "language_info": {
   "codemirror_mode": {
    "name": "ipython",
    "version": 3
   },
   "file_extension": ".py",
   "mimetype": "text/x-python",
   "name": "python",
   "nbconvert_exporter": "python",
   "pygments_lexer": "ipython3",
   "version": "3.8.1"
  }
 },
 "nbformat": 4,
 "nbformat_minor": 4
}
